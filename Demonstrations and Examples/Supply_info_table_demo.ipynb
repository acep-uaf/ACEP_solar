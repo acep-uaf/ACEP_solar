{
 "cells": [
  {
   "cell_type": "markdown",
   "metadata": {},
   "source": [
    "# Generate HTML of  table for each location"
   ]
  },
  {
   "cell_type": "markdown",
   "metadata": {},
   "source": [
    "This function is used for generate the supporting information of each location in HTML. That information includes location name, the number of installation, average DC capacity, normalized average annual production, TMY2 annual production and TMY3 annual production. "
   ]
  },
  {
   "cell_type": "markdown",
   "metadata": {},
   "source": [
    "Import the function named supplyinfo in ARCTIC folder"
   ]
  },
  {
   "cell_type": "code",
   "execution_count": 7,
   "metadata": {},
   "outputs": [],
   "source": [
    "from ARCTIC import supplyinfo\n",
    "import pandas as pd"
   ]
  },
  {
   "cell_type": "markdown",
   "metadata": {},
   "source": [
    "Import this function to show HTML in an easy way"
   ]
  },
  {
   "cell_type": "code",
   "execution_count": 2,
   "metadata": {},
   "outputs": [],
   "source": [
    "from IPython.core.display import display, HTML"
   ]
  },
  {
   "cell_type": "markdown",
   "metadata": {},
   "source": [
    "Run the function named table. You need to input the name of data file, the name of location, latitude and longitude. Please typein the file name without suffix name. The function usage is `table(file_name,location_name, latitude, longitude)`."
   ]
  },
  {
   "cell_type": "markdown",
   "metadata": {},
   "source": [
    "Take Anchorage for example. The file_name is `\"solar_panel_data_alaska\"`. Locarion_name is `\"Anchorage\"`. The coordiante is `61.193625,-149.694974`.So just type in `supplyinfo.table(\"solar_panel_data_alaska\",'Anchorage',61.193625,-149.694974)`. Then you can save the html result in `t`."
   ]
  },
  {
   "cell_type": "code",
   "execution_count": 3,
   "metadata": {},
   "outputs": [],
   "source": [
    "t = supplyinfo.table(\"solar_panel_data_alaska\",'Anchorage',61.193625,-149.694974)"
   ]
  },
  {
   "cell_type": "code",
   "execution_count": 4,
   "metadata": {},
   "outputs": [
    {
     "data": {
      "text/plain": [
       "'<table border=\"1\" class=\"dataframe\">  <thead>    <tr style=\"text-align: center;\">      <th>Parameter</th>      <th>Value</th>    </tr>  </thead>  <tbody>    <tr>      <td>Location</td>      <td>Anchorage</td>    </tr>    <tr>      <td>The Number of Installation</td>      <td>28</td>    </tr>    <tr>      <td>Average DC Capacity(kW)</td>      <td>6.29929</td>    </tr>    <tr>      <td>Normalized Average Annual Production(kWh)</td>      <td>664.294</td>    </tr>    <tr>      <td>TMY2 Annual Production(kWh)</td>      <td>923.263</td>    </tr>    <tr>      <td>TMY3 Annual Production(kWh)</td>      <td>947.962</td>    </tr>  </tbody></table>'"
      ]
     },
     "execution_count": 4,
     "metadata": {},
     "output_type": "execute_result"
    }
   ],
   "source": [
    "t"
   ]
  },
  {
   "cell_type": "markdown",
   "metadata": {},
   "source": [
    "The html in `t` is what we need. You can use HTML() function to show it in a user-friendly way."
   ]
  },
  {
   "cell_type": "code",
   "execution_count": 5,
   "metadata": {},
   "outputs": [
    {
     "data": {
      "text/html": [
       "<table border=\"1\" class=\"dataframe\">  <thead>    <tr style=\"text-align: center;\">      <th>Parameter</th>      <th>Value</th>    </tr>  </thead>  <tbody>    <tr>      <td>Location</td>      <td>Anchorage</td>    </tr>    <tr>      <td>The Number of Installation</td>      <td>28</td>    </tr>    <tr>      <td>Average DC Capacity(kW)</td>      <td>6.29929</td>    </tr>    <tr>      <td>Normalized Average Annual Production(kWh)</td>      <td>664.294</td>    </tr>    <tr>      <td>TMY2 Annual Production(kWh)</td>      <td>923.263</td>    </tr>    <tr>      <td>TMY3 Annual Production(kWh)</td>      <td>947.962</td>    </tr>  </tbody></table>"
      ],
      "text/plain": [
       "<IPython.core.display.HTML object>"
      ]
     },
     "execution_count": 5,
     "metadata": {},
     "output_type": "execute_result"
    }
   ],
   "source": [
    "HTML(t)"
   ]
  },
  {
   "cell_type": "markdown",
   "metadata": {},
   "source": [
    "Please be free to try other locations and coordinate below."
   ]
  },
  {
   "cell_type": "code",
   "execution_count": 8,
   "metadata": {},
   "outputs": [
    {
     "data": {
      "text/html": [
       "<div>\n",
       "<style scoped>\n",
       "    .dataframe tbody tr th:only-of-type {\n",
       "        vertical-align: middle;\n",
       "    }\n",
       "\n",
       "    .dataframe tbody tr th {\n",
       "        vertical-align: top;\n",
       "    }\n",
       "\n",
       "    .dataframe thead th {\n",
       "        text-align: right;\n",
       "    }\n",
       "</style>\n",
       "<table border=\"1\" class=\"dataframe\">\n",
       "  <thead>\n",
       "    <tr style=\"text-align: right;\">\n",
       "      <th></th>\n",
       "      <th>location</th>\n",
       "      <th>latitude</th>\n",
       "      <th>longitude</th>\n",
       "    </tr>\n",
       "  </thead>\n",
       "  <tbody>\n",
       "    <tr>\n",
       "      <th>0</th>\n",
       "      <td>Ambler-Shungnak-Kobuk</td>\n",
       "      <td>66.995834</td>\n",
       "      <td>-157.377096</td>\n",
       "    </tr>\n",
       "    <tr>\n",
       "      <th>1</th>\n",
       "      <td>Anchorage</td>\n",
       "      <td>61.193625</td>\n",
       "      <td>-149.694974</td>\n",
       "    </tr>\n",
       "    <tr>\n",
       "      <th>2</th>\n",
       "      <td>Bethel</td>\n",
       "      <td>60.794938</td>\n",
       "      <td>-161.770716</td>\n",
       "    </tr>\n",
       "    <tr>\n",
       "      <th>3</th>\n",
       "      <td>Chickaloon</td>\n",
       "      <td>61.823570</td>\n",
       "      <td>-148.450442</td>\n",
       "    </tr>\n",
       "    <tr>\n",
       "      <th>4</th>\n",
       "      <td>Deering</td>\n",
       "      <td>66.069413</td>\n",
       "      <td>-162.766760</td>\n",
       "    </tr>\n",
       "    <tr>\n",
       "      <th>5</th>\n",
       "      <td>Denali Park</td>\n",
       "      <td>63.537277</td>\n",
       "      <td>-150.985453</td>\n",
       "    </tr>\n",
       "    <tr>\n",
       "      <th>6</th>\n",
       "      <td>Fairbanks</td>\n",
       "      <td>64.838033</td>\n",
       "      <td>-147.668970</td>\n",
       "    </tr>\n",
       "    <tr>\n",
       "      <th>7</th>\n",
       "      <td>Fort Yukon</td>\n",
       "      <td>66.571563</td>\n",
       "      <td>-145.250173</td>\n",
       "    </tr>\n",
       "    <tr>\n",
       "      <th>8</th>\n",
       "      <td>Galena-Koyukuk-Ruby</td>\n",
       "      <td>64.782991</td>\n",
       "      <td>-156.744933</td>\n",
       "    </tr>\n",
       "    <tr>\n",
       "      <th>9</th>\n",
       "      <td>Homer</td>\n",
       "      <td>59.652521</td>\n",
       "      <td>-151.536496</td>\n",
       "    </tr>\n",
       "    <tr>\n",
       "      <th>10</th>\n",
       "      <td>Naknek</td>\n",
       "      <td>58.728349</td>\n",
       "      <td>-157.017444</td>\n",
       "    </tr>\n",
       "    <tr>\n",
       "      <th>11</th>\n",
       "      <td>Noatak</td>\n",
       "      <td>67.570921</td>\n",
       "      <td>-162.967490</td>\n",
       "    </tr>\n",
       "    <tr>\n",
       "      <th>12</th>\n",
       "      <td>Noorvik</td>\n",
       "      <td>66.836039</td>\n",
       "      <td>-161.041913</td>\n",
       "    </tr>\n",
       "    <tr>\n",
       "      <th>13</th>\n",
       "      <td>Soldotna</td>\n",
       "      <td>60.486370</td>\n",
       "      <td>-151.060702</td>\n",
       "    </tr>\n",
       "    <tr>\n",
       "      <th>14</th>\n",
       "      <td>Valdez</td>\n",
       "      <td>61.128663</td>\n",
       "      <td>-146.353366</td>\n",
       "    </tr>\n",
       "    <tr>\n",
       "      <th>15</th>\n",
       "      <td>Wasilla-Palmer</td>\n",
       "      <td>61.582242</td>\n",
       "      <td>-149.441001</td>\n",
       "    </tr>\n",
       "  </tbody>\n",
       "</table>\n",
       "</div>"
      ],
      "text/plain": [
       "                 location   latitude   longitude\n",
       "0   Ambler-Shungnak-Kobuk  66.995834 -157.377096\n",
       "1               Anchorage  61.193625 -149.694974\n",
       "2                  Bethel  60.794938 -161.770716\n",
       "3              Chickaloon  61.823570 -148.450442\n",
       "4                 Deering  66.069413 -162.766760\n",
       "5             Denali Park  63.537277 -150.985453\n",
       "6               Fairbanks  64.838033 -147.668970\n",
       "7              Fort Yukon  66.571563 -145.250173\n",
       "8     Galena-Koyukuk-Ruby  64.782991 -156.744933\n",
       "9                   Homer  59.652521 -151.536496\n",
       "10                 Naknek  58.728349 -157.017444\n",
       "11                 Noatak  67.570921 -162.967490\n",
       "12                Noorvik  66.836039 -161.041913\n",
       "13               Soldotna  60.486370 -151.060702\n",
       "14                 Valdez  61.128663 -146.353366\n",
       "15         Wasilla-Palmer  61.582242 -149.441001"
      ]
     },
     "execution_count": 8,
     "metadata": {},
     "output_type": "execute_result"
    }
   ],
   "source": [
    "coordinate = pd.DataFrame(columns=['location','latitude','longitude'])\n",
    "coordinate['location']=['Ambler-Shungnak-Kobuk','Anchorage','Bethel','Chickaloon',\n",
    "                        'Deering','Denali Park','Fairbanks','Fort Yukon',\n",
    "                        'Galena-Koyukuk-Ruby', 'Homer','Naknek','Noatak',\n",
    "                        'Noorvik','Soldotna','Valdez','Wasilla-Palmer']\n",
    "\n",
    "coordinate['latitude']=[66.995834, 61.193625, 60.794938, 61.823570, \n",
    "                        66.069413, 63.537277, 64.838033, 66.571563,\n",
    "                        64.782991, 59.652521, 58.728349, 67.570921, \n",
    "                        66.836039, 60.486370, 61.128663, 61.582242]\n",
    "\n",
    "\n",
    "coordinate['longitude']=[ -157.377096, -149.694974, -161.770716, -148.450442,\n",
    "                         -162.766760,  -150.985453, -147.668970,  -145.250173,\n",
    "                         -156.744933, -151.536496, -157.017444, -162.967490,\n",
    "                          -161.041913, -151.060702, -146.353366, -149.441001]\n",
    "\n",
    "\n",
    "coordinate"
   ]
  },
  {
   "cell_type": "code",
   "execution_count": null,
   "metadata": {},
   "outputs": [],
   "source": []
  }
 ],
 "metadata": {
  "kernelspec": {
   "display_name": "Python 3",
   "language": "python",
   "name": "python3"
  },
  "language_info": {
   "codemirror_mode": {
    "name": "ipython",
    "version": 3
   },
   "file_extension": ".py",
   "mimetype": "text/x-python",
   "name": "python",
   "nbconvert_exporter": "python",
   "pygments_lexer": "ipython3",
   "version": "3.6.8"
  }
 },
 "nbformat": 4,
 "nbformat_minor": 2
}
